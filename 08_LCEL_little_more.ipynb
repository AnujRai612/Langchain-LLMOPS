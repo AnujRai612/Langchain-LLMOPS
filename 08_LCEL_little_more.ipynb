{
 "cells": [
  {
   "cell_type": "code",
   "execution_count": 1,
   "id": "b426ebf9",
   "metadata": {},
   "outputs": [],
   "source": [
    "import os\n",
    "from dotenv import load_dotenv, find_dotenv\n",
    "_ = load_dotenv(find_dotenv())\n",
    "from langchain_groq import ChatGroq\n",
    "\n",
    "llamaChatModel = ChatGroq(model=\"llama-3.3-70b-versatile\")"
   ]
  },
  {
   "cell_type": "code",
   "execution_count": 2,
   "id": "1ce22556",
   "metadata": {},
   "outputs": [],
   "source": [
    "from langchain_core.output_parsers import StrOutputParser\n",
    "from langchain_core.prompts import ChatPromptTemplate"
   ]
  },
  {
   "cell_type": "code",
   "execution_count": 3,
   "id": "cf1eb704",
   "metadata": {},
   "outputs": [],
   "source": [
    "prompt = ChatPromptTemplate.from_template(\"tell me a curious fact about {soccer_player}\")\n",
    "\n",
    "output_parser = StrOutputParser()"
   ]
  },
  {
   "cell_type": "code",
   "execution_count": 5,
   "id": "08d7e649",
   "metadata": {},
   "outputs": [
    {
     "data": {
      "text/plain": [
       "\"Here's a curious fact about Cristiano Ronaldo: \\n\\nCristiano Ronaldo has a hotel chain named after him, but what's interesting is that he has a 'CR7' hotel in Funchal, Madeira, where he was born, and it has a museum dedicated to his football career on the top floor. However, the most curious part is that the hotel has a 'CR7' museum, but he also has a life-size wax replica of himself in the lobby, which is quite an unusual feature for a hotel.\""
      ]
     },
     "execution_count": 5,
     "metadata": {},
     "output_type": "execute_result"
    }
   ],
   "source": [
    "chain = prompt | llamaChatModel | output_parser\n",
    "\n",
    "chain.invoke({\"soccer_player\": \"Ronaldo\"})"
   ]
  },
  {
   "cell_type": "markdown",
   "id": "19f92eea",
   "metadata": {},
   "source": [
    "## Use of .bind() to add arguments to a Runnable in a LCEL Chain\n",
    "* For example, we can add an argument to stop the model response when it reaches the word \"Ronaldo\":"
   ]
  },
  {
   "cell_type": "code",
   "execution_count": 7,
   "id": "7278eda6",
   "metadata": {},
   "outputs": [
    {
     "data": {
      "text/plain": [
       "'One curious fact about Cristiano '"
      ]
     },
     "execution_count": 7,
     "metadata": {},
     "output_type": "execute_result"
    }
   ],
   "source": [
    "chain = prompt | llamaChatModel.bind(stop=[\"Ronaldo\"]) | output_parser\n",
    "chain.invoke({\"soccer_player\": \"Ronaldo\"})"
   ]
  },
  {
   "cell_type": "markdown",
   "id": "7973f19b",
   "metadata": {},
   "source": [
    "## Combining LCEL Chains\n"
   ]
  },
  {
   "cell_type": "code",
   "execution_count": 9,
   "id": "b0d3b5a4",
   "metadata": {},
   "outputs": [],
   "source": [
    "from langchain_core.output_parsers import StrOutputParser\n",
    "from langchain_core.prompts import ChatPromptTemplate\n",
    "\n",
    "prompt = ChatPromptTemplate.from_template(\"tell me a sentence about {politician}\")\n",
    "\n",
    "chain = prompt | llamaChatModel | StrOutputParser()"
   ]
  },
  {
   "cell_type": "code",
   "execution_count": 10,
   "id": "704188c3",
   "metadata": {},
   "outputs": [
    {
     "data": {
      "text/plain": [
       "'Narendra Modi is the 14th and current Prime Minister of India, serving since 2014 and being re-elected in 2019.'"
      ]
     },
     "execution_count": 10,
     "metadata": {},
     "output_type": "execute_result"
    }
   ],
   "source": [
    "chain.invoke(\"Modi\")"
   ]
  },
  {
   "cell_type": "markdown",
   "id": "5f34b7a3",
   "metadata": {},
   "source": [
    "## Combined Chain"
   ]
  },
  {
   "cell_type": "code",
   "execution_count": 13,
   "id": "561abaf2",
   "metadata": {},
   "outputs": [],
   "source": [
    "historian_prompt = ChatPromptTemplate.from_template(\"Was {politician} positive for Humanity?\")\n",
    "\n",
    "composed_chain = {\"politician\": chain} | historian_prompt | llamaChatModel | StrOutputParser()\n"
   ]
  },
  {
   "cell_type": "code",
   "execution_count": 14,
   "id": "9a52eebf",
   "metadata": {},
   "outputs": [
    {
     "data": {
      "text/plain": [
       "'Rahul Gandhi, as a prominent Indian politician and a member of the Indian National Congress party, has been involved in various initiatives and policies that have had both positive and negative impacts on humanity. Here are some aspects to consider:\\n\\nPositive aspects:\\n\\n1. **Pro-poor and pro-farmer policies**: Rahul Gandhi has consistently advocated for the rights of the poor, farmers, and marginalized communities. He has supported policies like the Minimum Income Guarantee Scheme (NYAY) and the Farmers\\' Loan Waiver Scheme, which aim to alleviate poverty and support agricultural development.\\n2. **Education and healthcare**: Gandhi has emphasized the importance of education and healthcare in his political campaigns. He has supported initiatives to improve access to quality education and healthcare, particularly for disadvantaged groups.\\n3. **Environmental conservation**: Rahul Gandhi has spoken out on environmental issues, such as climate change, deforestation, and pollution. He has advocated for sustainable development and conservation of natural resources.\\n4. **Social justice and equality**: Gandhi has been a vocal supporter of social justice and equality, particularly for women, minorities, and Dalits (formerly known as \"untouchables\"). He has spoken out against discrimination, violence, and injustice faced by these groups.\\n\\nNegative aspects:\\n\\n1. **Criticism of economic policies**: Some critics argue that Rahul Gandhi\\'s economic policies, such as the NYAY scheme, are unrealistic and may lead to increased fiscal deficits and inflation.\\n2. **Lack of effective implementation**: Despite his advocacy for various causes, some critics argue that Gandhi\\'s initiatives have not always been effectively implemented, leading to limited impact on the ground.\\n3. **Controversies and criticisms**: Rahul Gandhi has faced criticism and controversy over various issues, including his leadership style, political tactics, and personal life. Some have accused him of being out of touch with the common people and lacking a clear vision for the country.\\n4. **Dynastic politics**: Gandhi\\'s membership in the Nehru-Gandhi family, which has dominated Indian politics for decades, has led to accusations of dynastic politics and nepotism.\\n\\nIn conclusion, Rahul Gandhi\\'s impact on humanity is complex and multifaceted. While he has advocated for various causes that benefit humanity, such as poverty alleviation, education, and environmental conservation, his policies and initiatives have also been subject to criticism and controversy. Ultimately, the assessment of his positive or negative impact on humanity depends on one\\'s perspective and evaluation of his actions and policies.'"
      ]
     },
     "execution_count": 14,
     "metadata": {},
     "output_type": "execute_result"
    }
   ],
   "source": [
    "composed_chain.invoke({\"politician\": \"rahul Gandhi\"})"
   ]
  },
  {
   "cell_type": "markdown",
   "id": "3ad5f394",
   "metadata": {},
   "source": [
    "## LCEL chain at work in a typical RAG app\n"
   ]
  },
  {
   "cell_type": "code",
   "execution_count": 20,
   "id": "a8c2e49f",
   "metadata": {},
   "outputs": [],
   "source": [
    "import bs4\n",
    "from langchain import hub\n",
    "# from langchain_chroma import Chroma\n",
    "from langchain_community.vectorstores import FAISS\n",
    "from langchain_community.document_loaders import WebBaseLoader\n",
    "from langchain_core.output_parsers import StrOutputParser\n",
    "from langchain_core.runnables import RunnablePassthrough\n",
    "#from langchain_openai import OpenAIEmbeddings\n",
    "from langchain_community.embeddings import HuggingFaceEmbeddings\n",
    "from langchain_text_splitters import RecursiveCharacterTextSplitter\n",
    "from langchain_core.prompts import ChatPromptTemplate\n",
    "\n",
    "embeddings = HuggingFaceEmbeddings(model_name=\"sentence-transformers/all-MiniLM-L6-v2\")\n",
    "\n",
    "loader = WebBaseLoader(\n",
    "    web_paths=(\"https://lilianweng.github.io/posts/2023-06-23-agent/\",),\n",
    "    bs_kwargs=dict(\n",
    "        parse_only=bs4.SoupStrainer(\n",
    "            class_=(\"post-content\", \"post-title\", \"post-header\")\n",
    "        )\n",
    "    ),\n",
    ")\n",
    "\n",
    "docs = loader.load()\n",
    "\n",
    "text_splitter = RecursiveCharacterTextSplitter(chunk_size=1000, chunk_overlap=200)\n",
    "\n",
    "splits = text_splitter.split_documents(docs)\n",
    "\n",
    "vectorstore = FAISS.from_documents(documents=splits, embedding=embeddings)\n",
    "\n",
    "retriever = vectorstore.as_retriever()\n",
    "\n",
    "\n",
    "prompt = ChatPromptTemplate.from_template(\"\"\"\n",
    "You are an intelligent assistant. Use the following retrieved context\n",
    "to answer the user’s question.\n",
    "\n",
    "Context:\n",
    "{context}\n",
    "\n",
    "Question:\n",
    "{question}\n",
    "\n",
    "Answer clearly and concisely. If the context does not contain the answer,\n",
    "say \"I don’t know\" instead of guessing.\n",
    "\"\"\")\n",
    "\n",
    "def format_docs(docs):\n",
    "    return \"\\n\\n\".join(doc.page_content for doc in docs)\n",
    "\n",
    "rag_chain = (\n",
    "    {\"context\": retriever | format_docs, \"question\": RunnablePassthrough()}\n",
    "    | prompt\n",
    "    | llamaChatModel\n",
    "    | StrOutputParser()\n",
    ")"
   ]
  },
  {
   "cell_type": "code",
   "execution_count": 21,
   "id": "4177bfe7",
   "metadata": {},
   "outputs": [
    {
     "name": "stderr",
     "output_type": "stream",
     "text": [
      "/opt/anaconda3/envs/llmapp/lib/python3.11/site-packages/langchain_groq/chat_models.py:665: PydanticDeprecatedSince20: The `dict` method is deprecated; use `model_dump` instead. Deprecated in Pydantic V2.0 to be removed in V3.0. See Pydantic V2 Migration Guide at https://errors.pydantic.dev/2.11/migration/\n",
      "  response = response.dict()\n"
     ]
    },
    {
     "data": {
      "text/plain": [
       "'Task decomposition is the process of breaking down a complex task into smaller, simpler steps or subgoals. It can be done through various methods, including using large language models (LLMs) with simple prompting, task-specific instructions, or human inputs.'"
      ]
     },
     "execution_count": 21,
     "metadata": {},
     "output_type": "execute_result"
    }
   ],
   "source": [
    "rag_chain.invoke(\"What is Task Decomposition?\")"
   ]
  },
  {
   "cell_type": "code",
   "execution_count": null,
   "id": "8f887149",
   "metadata": {},
   "outputs": [],
   "source": []
  }
 ],
 "metadata": {
  "kernelspec": {
   "display_name": "llmapp",
   "language": "python",
   "name": "python3"
  },
  "language_info": {
   "codemirror_mode": {
    "name": "ipython",
    "version": 3
   },
   "file_extension": ".py",
   "mimetype": "text/x-python",
   "name": "python",
   "nbconvert_exporter": "python",
   "pygments_lexer": "ipython3",
   "version": "3.11.13"
  }
 },
 "nbformat": 4,
 "nbformat_minor": 5
}
