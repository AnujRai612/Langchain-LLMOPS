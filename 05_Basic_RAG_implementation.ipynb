{
 "cells": [
  {
   "cell_type": "code",
   "execution_count": 2,
   "id": "d4688338",
   "metadata": {},
   "outputs": [],
   "source": [
    "#Loading LLM Model\n",
    "import os\n",
    "from dotenv import load_dotenv, find_dotenv\n",
    "_ = load_dotenv(find_dotenv())\n",
    "from langchain_groq import ChatGroq\n",
    "\n",
    "llamaChatModel = ChatGroq(model=\"llama-3.3-70b-versatile\")"
   ]
  },
  {
   "cell_type": "code",
   "execution_count": 3,
   "id": "62419d3b",
   "metadata": {},
   "outputs": [],
   "source": [
    "from langchain_community.document_loaders import TextLoader\n",
    "from langchain_text_splitters import CharacterTextSplitter\n",
    "from langchain_community.vectorstores import FAISS"
   ]
  },
  {
   "cell_type": "code",
   "execution_count": 5,
   "id": "6364de57",
   "metadata": {},
   "outputs": [],
   "source": [
    "from langchain_google_genai import GoogleGenerativeAIEmbeddings\n",
    "load_dotenv()\n",
    "api_key = os.getenv(\"GOOGLE_API_KEY\")"
   ]
  },
  {
   "cell_type": "code",
   "execution_count": 6,
   "id": "738905a7",
   "metadata": {},
   "outputs": [
    {
     "name": "stderr",
     "output_type": "stream",
     "text": [
      "WARNING: All log messages before absl::InitializeLog() is called are written to STDERR\n",
      "E0000 00:00:1759560307.587777 10415718 alts_credentials.cc:93] ALTS creds ignored. Not running on GCP and untrusted ALTS is not enabled.\n"
     ]
    }
   ],
   "source": [
    "embeddings = GoogleGenerativeAIEmbeddings(\n",
    "    model=\"models/embedding-001\", \n",
    "    google_api_key=api_key\n",
    ")"
   ]
  },
  {
   "cell_type": "code",
   "execution_count": 16,
   "id": "c830ec28",
   "metadata": {},
   "outputs": [],
   "source": [
    "loader = TextLoader(\"./data/state_of_the_union.txt\")\n",
    "loaded_document = loader.load()"
   ]
  },
  {
   "cell_type": "code",
   "execution_count": 17,
   "id": "e79bf0c5",
   "metadata": {},
   "outputs": [
    {
     "data": {
      "text/plain": [
       "[Document(metadata={'source': './data/state_of_the_union.txt'}, page_content='Madam Speaker, Madam Vice President, our First Lady and Second Gentleman. Members of Congress and the Cabinet. Justices of the Supreme Court. My fellow Americans.  \\n\\nLast year COVID-19 kept us apart. This year we are finally together again. \\n\\nTonight, we meet as Democrats Republicans and Independents. But most importantly as Americans. \\n\\nWith a duty to one another to the American people to the Constitution. \\n\\nAnd with an unwavering resolve that freedom will always triumph over tyranny. \\n\\nSix days ago, Russia’s Vladimir Putin sought to shake the foundations of the free world thinking he could make it bend to his menacing ways. But he badly miscalculated. \\n\\nHe thought he could roll into Ukraine and the world would roll over. Instead he met a wall of strength he never imagined. \\n\\nHe met the Ukrainian people. \\n')]"
      ]
     },
     "execution_count": 17,
     "metadata": {},
     "output_type": "execute_result"
    }
   ],
   "source": [
    "loaded_document\n"
   ]
  },
  {
   "cell_type": "code",
   "execution_count": null,
   "id": "beb10021",
   "metadata": {},
   "outputs": [
    {
     "name": "stderr",
     "output_type": "stream",
     "text": [
      "Created a chunk of size 164, which is longer than the specified 100\n",
      "Created a chunk of size 169, which is longer than the specified 100\n",
      "Created a chunk of size 122, which is longer than the specified 100\n"
     ]
    }
   ],
   "source": [
    "text_splitter = CharacterTextSplitter(chunk_size=1000, chunk_overlap=0)\n",
    "chunks_of_text = text_splitter.split_documents(loaded_document)"
   ]
  },
  {
   "cell_type": "code",
   "execution_count": 23,
   "id": "ffa6e8ce",
   "metadata": {},
   "outputs": [
    {
     "data": {
      "text/plain": [
       "8"
      ]
     },
     "execution_count": 23,
     "metadata": {},
     "output_type": "execute_result"
    }
   ],
   "source": [
    "len(chunks_of_text)"
   ]
  },
  {
   "cell_type": "code",
   "execution_count": 32,
   "id": "09d11445",
   "metadata": {},
   "outputs": [
    {
     "name": "stderr",
     "output_type": "stream",
     "text": [
      "E0000 00:00:1759562490.800524 10415718 alts_credentials.cc:93] ALTS creds ignored. Not running on GCP and untrusted ALTS is not enabled.\n"
     ]
    }
   ],
   "source": [
    "embeddings = GoogleGenerativeAIEmbeddings(\n",
    "    model=\"models/embedding-001\",\n",
    "    google_api_key=api_key )\n",
    "\n"
   ]
  },
  {
   "cell_type": "code",
   "execution_count": 33,
   "id": "374f08f9",
   "metadata": {},
   "outputs": [],
   "source": [
    "# # ✅ Safer batching (manual control)\n",
    "# def create_faiss_index_safe(docs, batch_size=5, sleep_time=2):\n",
    "#     texts = [doc.page_content for doc in docs]\n",
    "#     metadatas = [doc.metadata for doc in docs]\n",
    "\n",
    "#     vectors = []\n",
    "#     for i in range(0, len(texts), batch_size):\n",
    "#         batch_texts = texts[i:i+batch_size]\n",
    "#         print(f\"🔹 Embedding batch {i} → {i+len(batch_texts)}\")\n",
    "\n",
    "#         try:\n",
    "#             batch_embeddings = embeddings.embed_documents(batch_texts)\n",
    "#         except Exception as e:\n",
    "#             print(\"⚠️ Error while embedding batch:\", e)\n",
    "#             break\n",
    "\n",
    "#         for text, vector, meta in zip(batch_texts, batch_embeddings, metadatas[i:i+batch_size]):\n",
    "#             vectors.append((Document(page_content=text, metadata=meta), vector))\n",
    "\n",
    "#         time.sleep(sleep_time)  # avoid rate-limit\n",
    "\n",
    "#     # Build FAISS index manually\n",
    "#     texts_final = [doc for doc, _ in vectors]\n",
    "#     vectors_final = [vec for _, vec in vectors]\n",
    "\n",
    "#     faiss_index = FAISS.from_embeddings(texts_final, vectors_final, embeddings)\n",
    "#     return faiss_index\n",
    "\n",
    "\n",
    "# # ⚡ Use this instead of FAISS.from_documents\n",
    "# vector_db = create_faiss_index_safe(chunks_of_text, batch_size=5, sleep_time=2)\n",
    "\n",
    "# print(\"✅ FAISS index created safely with Gemini embeddings\")\n",
    "\n",
    "# # vector_db = FAISS.from_documents(chunks_of_text, embeddings)"
   ]
  },
  {
   "cell_type": "code",
   "execution_count": null,
   "id": "64746cb4",
   "metadata": {},
   "outputs": [],
   "source": []
  },
  {
   "cell_type": "code",
   "execution_count": null,
   "id": "edccdddd",
   "metadata": {},
   "outputs": [],
   "source": []
  }
 ],
 "metadata": {
  "kernelspec": {
   "display_name": "llmapp",
   "language": "python",
   "name": "python3"
  },
  "language_info": {
   "codemirror_mode": {
    "name": "ipython",
    "version": 3
   },
   "file_extension": ".py",
   "mimetype": "text/x-python",
   "name": "python",
   "nbconvert_exporter": "python",
   "pygments_lexer": "ipython3",
   "version": "3.11.13"
  }
 },
 "nbformat": 4,
 "nbformat_minor": 5
}
