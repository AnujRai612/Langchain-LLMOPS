{
 "cells": [
  {
   "cell_type": "markdown",
   "id": "ac59e2f6",
   "metadata": {},
   "source": [
    "#1 Chat with Google gemini model"
   ]
  },
  {
   "cell_type": "code",
   "execution_count": null,
   "id": "f38c20bb",
   "metadata": {},
   "outputs": [],
   "source": [
    "import os\n",
    "from dotenv import load_dotenv, find_dotenv\n",
    "_ = load_dotenv(find_dotenv())\n",
    "gemini_api_key = os.environ[\"GOOGLE_API_KEY\"]\n",
    "gemini_api_key= gemini_api_key.strip().replace(\"“\", \"\").replace(\"”\", \"\").replace('\"', '')\n",
    "\n",
    "\n",
    "# import os\n",
    "# from dotenv import load_dotenv\n",
    "# load_dotenv()\n",
    "\n",
    "# key = os.getenv(\"GOOGLE_API_KEY\")\n",
    "# key = key.strip().replace(\"“\", \"\").replace(\"”\", \"\").replace('\"', '')\n",
    "# print(\"KEY repr:\", repr(key))\n",
    "\n",
    "\n"
   ]
  },
  {
   "cell_type": "code",
   "execution_count": 43,
   "id": "5067cefd",
   "metadata": {},
   "outputs": [
    {
     "name": "stderr",
     "output_type": "stream",
     "text": [
      "E0000 00:00:1758648663.990679 8769687 alts_credentials.cc:93] ALTS creds ignored. Not running on GCP and untrusted ALTS is not enabled.\n",
      "E0000 00:00:1758648663.991456 8769687 alts_credentials.cc:93] ALTS creds ignored. Not running on GCP and untrusted ALTS is not enabled.\n"
     ]
    }
   ],
   "source": [
    "from langchain_google_genai import ChatGoogleGenerativeAI\n",
    "llm=ChatGoogleGenerativeAI(model=\"gemini-1.5-flash\",google_api_key=gemini_api_key)"
   ]
  },
  {
   "cell_type": "code",
   "execution_count": 46,
   "id": "0e0e847b",
   "metadata": {},
   "outputs": [
    {
     "name": "stdout",
     "output_type": "stream",
     "text": [
      "J'adore programmer.\n",
      "\n"
     ]
    }
   ],
   "source": [
    "\n",
    "messages = [\n",
    "    (\n",
    "        \"system\",\n",
    "        \"You are a helpful assistant that translates English to French. Translate the user sentence.\",\n",
    "    ),\n",
    "    (\"human\", \"I love programming.\"),\n",
    "]\n",
    "ai_msg = llm.invoke(messages)\n",
    "print(ai_msg.content)"
   ]
  },
  {
   "cell_type": "markdown",
   "id": "f9e214d9",
   "metadata": {},
   "source": [
    "Alternative LLM - Groq "
   ]
  },
  {
   "cell_type": "code",
   "execution_count": 47,
   "id": "c0b2c328",
   "metadata": {},
   "outputs": [],
   "source": [
    "import os\n",
    "from dotenv import load_dotenv, find_dotenv\n",
    "_ = load_dotenv(find_dotenv())\n",
    "# groq_api_key = os.environ[\"GROQ_API_KEY\"]"
   ]
  },
  {
   "cell_type": "code",
   "execution_count": 51,
   "id": "a6ed72e7",
   "metadata": {},
   "outputs": [],
   "source": [
    "from langchain_groq import ChatGroq\n",
    "\n",
    "llamaChatModel = ChatGroq(\n",
    "    model=\"llama-3.3-70b-versatile\"\n",
    ")"
   ]
  },
  {
   "cell_type": "code",
   "execution_count": 52,
   "id": "5395a844",
   "metadata": {},
   "outputs": [],
   "source": [
    "messages = [\n",
    "    (\"system\", \"You are an historian expert in the Kennedy family.\"),\n",
    "    (\"human\", \"How many members of the family died tragically?\"),\n",
    "]"
   ]
  },
  {
   "cell_type": "code",
   "execution_count": 53,
   "id": "98e68fa4",
   "metadata": {},
   "outputs": [],
   "source": [
    "llamaResponse = llamaChatModel.invoke(messages)"
   ]
  },
  {
   "cell_type": "code",
   "execution_count": 54,
   "id": "537ccf54",
   "metadata": {},
   "outputs": [
    {
     "name": "stdout",
     "output_type": "stream",
     "text": [
      "The Kennedy family has indeed been plagued by a series of tragic events and untimely deaths. Here are some of the most notable ones:\n",
      "\n",
      "1. Joseph P. Kennedy Jr. (1915-1944): The eldest son of Joseph P. Kennedy Sr. and Rose Kennedy, Joseph Jr. was a naval aviator in World War II. He was killed in action on August 12, 1944, when his plane exploded over England during a secret mission.\n",
      "2. Kathleen Kennedy Cavendish (1920-1948): Kathleen, also known as \"Kick,\" was the sister of John F. Kennedy. She died in a plane crash in France on May 13, 1948, at the age of 28.\n",
      "3. John F. Kennedy (1917-1963): The 35th President of the United States, John F. Kennedy was assassinated in Dallas, Texas, on November 22, 1963.\n",
      "4. Robert F. Kennedy (1925-1968): John's younger brother and a presidential candidate, Robert was assassinated in Los Angeles, California, on June 5, 1968, while campaigning for the Democratic presidential nomination.\n",
      "5. Michael Kennedy (1958-1997): The son of Robert F. Kennedy, Michael died in a skiing accident in Aspen, Colorado, on December 31, 1997, at the age of 39.\n",
      "6. David Kennedy (1955-1984): Another son of Robert F. Kennedy, David struggled with addiction and died of a cocaine overdose in a hotel room in Palm Beach, Florida, on April 18, 1984, at the age of 28.\n",
      "7. Mary Richardson Kennedy (1956-2012): The estranged wife of Robert F. Kennedy Jr., Mary took her own life on May 16, 2012, at the age of 56.\n",
      "8. Saoirse Kennedy Hill (1998-2019): The granddaughter of Robert F. Kennedy, Saoirse died of a suspected overdose at the Kennedy family compound in Hyannis Port, Massachusetts, on August 1, 2019, at the age of 21.\n",
      "\n",
      "These tragic events have led to the Kennedy family being often referred to as being \"cursed.\" However, it's worth noting that the family has also produced many accomplished and influential individuals who have made significant contributions to American politics, public service, and society.\n"
     ]
    }
   ],
   "source": [
    "print(llamaResponse.content)"
   ]
  }
 ],
 "metadata": {
  "kernelspec": {
   "display_name": "llmapp",
   "language": "python",
   "name": "python3"
  },
  "language_info": {
   "codemirror_mode": {
    "name": "ipython",
    "version": 3
   },
   "file_extension": ".py",
   "mimetype": "text/x-python",
   "name": "python",
   "nbconvert_exporter": "python",
   "pygments_lexer": "ipython3",
   "version": "3.11.13"
  }
 },
 "nbformat": 4,
 "nbformat_minor": 5
}
