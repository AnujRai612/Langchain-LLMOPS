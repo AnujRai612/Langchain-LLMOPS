{
 "cells": [
  {
   "cell_type": "code",
   "execution_count": 1,
   "id": "4b9e26df",
   "metadata": {},
   "outputs": [],
   "source": [
    "import os\n",
    "from dotenv import load_dotenv, find_dotenv\n",
    "_ = load_dotenv(find_dotenv())\n",
    "from langchain_groq import ChatGroq\n",
    "\n",
    "llamaChatModel = ChatGroq(model=\"llama-3.3-70b-versatile\")"
   ]
  },
  {
   "cell_type": "code",
   "execution_count": 2,
   "id": "0e5ff24a",
   "metadata": {},
   "outputs": [],
   "source": [
    "from langchain_core.output_parsers import StrOutputParser\n",
    "from langchain_core.prompts import ChatPromptTemplate\n",
    "\n",
    "prompt = ChatPromptTemplate.from_template(\"tell me a curious fact about {politician}\")\n",
    "\n",
    "chain = prompt | llamaChatModel | StrOutputParser()"
   ]
  },
  {
   "cell_type": "code",
   "execution_count": 3,
   "id": "12f16dab",
   "metadata": {},
   "outputs": [
    {
     "data": {
      "text/plain": [
       "'One curious fact about Narendra Modi is that before he became the Prime Minister of India, he sold tea at a railway station in Gujarat. As a child, Modi helped his father with his tea stall at the Vadnagar railway station, where he would often interact with travelers and sell them tea. This experience is often cited as one of the factors that shaped his personality and helped him develop strong communication skills, which have been instrumental in his political career.'"
      ]
     },
     "execution_count": 3,
     "metadata": {},
     "output_type": "execute_result"
    }
   ],
   "source": [
    "chain.invoke({\"politician\": \"Narendra Modi\"})\n"
   ]
  },
  {
   "cell_type": "markdown",
   "id": "95c19554",
   "metadata": {},
   "source": [
    "## Legacy Chain"
   ]
  },
  {
   "cell_type": "code",
   "execution_count": 4,
   "id": "2d3098b1",
   "metadata": {},
   "outputs": [
    {
     "name": "stderr",
     "output_type": "stream",
     "text": [
      "/var/folders/00/6gmykrw13ylb0nr60ggprq8c0000gn/T/ipykernel_79076/3881903954.py:5: LangChainDeprecationWarning: The class `LLMChain` was deprecated in LangChain 0.1.17 and will be removed in 1.0. Use RunnableSequence, e.g., `prompt | llm` instead.\n",
      "  traditional_chain = LLMChain(\n"
     ]
    },
    {
     "data": {
      "text/plain": [
       "\"One curious fact about Diego Maradona is that he had a peculiar friendship with Fidel Castro, the former Cuban leader. Maradona was a huge fan of Castro and often visited him in Cuba, where he would participate in charity soccer matches and even got a tattoo of Castro's face on his leg. In return, Castro would often give Maradona gifts, including a Cuban national team jersey and a box of Cuban cigars. This unlikely friendship between a soccer legend and a communist leader is a fascinating aspect of Maradona's life.\""
      ]
     },
     "execution_count": 4,
     "metadata": {},
     "output_type": "execute_result"
    }
   ],
   "source": [
    "from langchain.chains import LLMChain\n",
    "\n",
    "prompt = ChatPromptTemplate.from_template(\"tell me a curious fact about {soccer_player}\")\n",
    "\n",
    "traditional_chain = LLMChain(\n",
    "    llm=llamaChatModel,\n",
    "    prompt=prompt\n",
    ")\n",
    "\n",
    "traditional_chain.predict(soccer_player=\"Maradona\")"
   ]
  },
  {
   "cell_type": "code",
   "execution_count": 5,
   "id": "6df6db85",
   "metadata": {},
   "outputs": [
    {
     "data": {
      "text/plain": [
       "'One curious fact about Cristiano Ronaldo is that he has a condition called \"tetrachromacy,\" which means he has four types of cones in his retina, allowing him to see a wider range of colors than the average person. This condition is extremely rare, affecting only about 2% of the population, and is often found in people with a high level of visual acuity, which could potentially give him an advantage on the soccer field.'"
      ]
     },
     "execution_count": 5,
     "metadata": {},
     "output_type": "execute_result"
    }
   ],
   "source": [
    "chain = prompt | llamaChatModel | StrOutputParser()\n",
    "\n",
    "chain.invoke({\"soccer_player\": \"Ronaldo\"})"
   ]
  },
  {
   "cell_type": "code",
   "execution_count": 7,
   "id": "9ebf9d13",
   "metadata": {},
   "outputs": [
    {
     "data": {
      "text/plain": [
       "'One curious fact about Cristiano Ronaldo is that he has a museum dedicated to himself in his hometown of Funchal, Madeira, Portugal. The museum, called the \"CR7 Museum,\" was opened in 2013 and features a collection of his trophies, awards, and memorabilia from throughout his career, including his Ballon d\\'Or awards, UEFA Champions League medals, and jerseys from his time at Manchester United, Real Madrid, and Juventus. The museum also includes interactive exhibits and a collection of his childhood memorabilia, giving visitors a glimpse into the life and career of one of the world\\'s most famous soccer players.'"
      ]
     },
     "execution_count": 7,
     "metadata": {},
     "output_type": "execute_result"
    }
   ],
   "source": [
    "prompt = ChatPromptTemplate.from_template(\"tell me a curious fact about {soccer_player}\")\n",
    "\n",
    "output_parser = StrOutputParser()\n",
    "\n",
    "chain = prompt | llamaChatModel | output_parser\n",
    "\n",
    "chain.invoke({\"soccer_player\": \"Ronaldo\"})"
   ]
  },
  {
   "cell_type": "code",
   "execution_count": 8,
   "id": "59843ad6",
   "metadata": {},
   "outputs": [
    {
     "name": "stdout",
     "output_type": "stream",
     "text": [
      "Here's one: Cristiano Ronaldo is known for his intense training regimen, but did you know that he has a peculiar habit of changing his socks during games? Yes, you read that right. He often changes his socks at halftime, which is believed to be a superstition that helps him stay focused and maintain his performance throughout the match. This quirk has been observed in several high-profile games, and it's just one of the many unusual habits that contribute to his unique personality and success on the field."
     ]
    }
   ],
   "source": [
    " for s in chain.stream({\"soccer_player\": \"Ronaldo\"}):\n",
    "    print(s, end=\"\", flush=True)"
   ]
  },
  {
   "cell_type": "code",
   "execution_count": 9,
   "id": "24aa06bb",
   "metadata": {},
   "outputs": [
    {
     "data": {
      "text/plain": [
       "['A curious fact about Cristiano Ronaldo is that he has a museum dedicated to himself, called the \"CR7 Museum\", located in his hometown of Funchal, Madeira, Portugal. The museum showcases his football career, with exhibits featuring his trophies, medals, and memorabilia, including all five of his Ballon d\\'Or awards. It\\'s a unique tribute to his own achievements, and a popular tourist attraction for fans of the soccer superstar.',\n",
       " 'One curious fact about Lionel Messi is that he has a rare medical condition called \"growth hormone deficiency\" which was diagnosed when he was 11 years old. Due to this condition, his family couldn\\'t afford the treatment, but FC Barcelona offered to pay for his medical expenses if he joined their youth academy. This ultimately led to him joining the club and beginning his journey to becoming one of the greatest footballers of all time.']"
      ]
     },
     "execution_count": 9,
     "metadata": {},
     "output_type": "execute_result"
    }
   ],
   "source": [
    "chain.batch([{\"soccer_player\": \"Ronaldo\"}, {\"soccer_player\": \"Messi\"}])\n"
   ]
  },
  {
   "cell_type": "code",
   "execution_count": null,
   "id": "f1fb46d5",
   "metadata": {},
   "outputs": [],
   "source": []
  }
 ],
 "metadata": {
  "kernelspec": {
   "display_name": "llmapp",
   "language": "python",
   "name": "python3"
  },
  "language_info": {
   "codemirror_mode": {
    "name": "ipython",
    "version": 3
   },
   "file_extension": ".py",
   "mimetype": "text/x-python",
   "name": "python",
   "nbconvert_exporter": "python",
   "pygments_lexer": "ipython3",
   "version": "3.11.13"
  }
 },
 "nbformat": 4,
 "nbformat_minor": 5
}
