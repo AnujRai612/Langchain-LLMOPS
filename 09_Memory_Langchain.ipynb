{
 "cells": [
  {
   "cell_type": "code",
   "execution_count": 1,
   "id": "96c7c2fd",
   "metadata": {},
   "outputs": [],
   "source": [
    "#Loading LLM Model\n",
    "import os\n",
    "from dotenv import load_dotenv, find_dotenv\n",
    "_ = load_dotenv(find_dotenv())\n",
    "from langchain_groq import ChatGroq\n",
    "\n",
    "llamaChatModel = ChatGroq(model=\"llama-3.3-70b-versatile\")"
   ]
  },
  {
   "cell_type": "code",
   "execution_count": 2,
   "id": "c6edcf75",
   "metadata": {},
   "outputs": [],
   "source": [
    "from langchain_core.prompts import (\n",
    "    ChatPromptTemplate,\n",
    "    MessagesPlaceholder,\n",
    "    SystemMessagePromptTemplate,\n",
    "    HumanMessagePromptTemplate,\n",
    ")\n",
    "from langchain.chains import LLMChain\n",
    "from langchain.memory import ConversationBufferMemory"
   ]
  },
  {
   "cell_type": "code",
   "execution_count": 3,
   "id": "db13983a",
   "metadata": {},
   "outputs": [],
   "source": [
    "prompt = ChatPromptTemplate(\n",
    "    messages=[\n",
    "        SystemMessagePromptTemplate.from_template(\n",
    "            \"You are a nice chatbot having a conversation with a human.\"\n",
    "        ),\n",
    "        # The `variable_name` here is what must align with memory\n",
    "        MessagesPlaceholder(variable_name=\"chat_history\"),\n",
    "        HumanMessagePromptTemplate.from_template(\"{question}\")\n",
    "    ]\n",
    ")\n"
   ]
  },
  {
   "cell_type": "code",
   "execution_count": 5,
   "id": "7920914a",
   "metadata": {},
   "outputs": [
    {
     "name": "stderr",
     "output_type": "stream",
     "text": [
      "/var/folders/00/6gmykrw13ylb0nr60ggprq8c0000gn/T/ipykernel_77734/1307881143.py:3: LangChainDeprecationWarning: The class `LLMChain` was deprecated in LangChain 0.1.17 and will be removed in 1.0. Use RunnableSequence, e.g., `prompt | llm` instead.\n",
      "  conversation = LLMChain(\n"
     ]
    }
   ],
   "source": [
    "memory = ConversationBufferMemory(memory_key=\"chat_history\", return_messages=True)\n",
    "\n",
    "conversation = LLMChain(\n",
    "    llm=llamaChatModel,\n",
    "    prompt=prompt,\n",
    "    verbose=True,\n",
    "    memory=memory\n",
    ")"
   ]
  },
  {
   "cell_type": "code",
   "execution_count": 6,
   "id": "1585ceac",
   "metadata": {},
   "outputs": [
    {
     "name": "stderr",
     "output_type": "stream",
     "text": [
      "/var/folders/00/6gmykrw13ylb0nr60ggprq8c0000gn/T/ipykernel_77734/2596321432.py:1: LangChainDeprecationWarning: The method `Chain.__call__` was deprecated in langchain 0.1.0 and will be removed in 0.3.0. Use invoke instead.\n",
      "  conversation({\"question\": \"hi\"})\n"
     ]
    },
    {
     "name": "stdout",
     "output_type": "stream",
     "text": [
      "\n",
      "\n",
      "\u001b[1m> Entering new LLMChain chain...\u001b[0m\n",
      "Prompt after formatting:\n",
      "\u001b[32;1m\u001b[1;3mSystem: You are a nice chatbot having a conversation with a human.\n",
      "Human: hi\u001b[0m\n",
      "\n",
      "\u001b[1m> Finished chain.\u001b[0m\n"
     ]
    },
    {
     "data": {
      "text/plain": [
       "{'question': 'hi',\n",
       " 'chat_history': [HumanMessage(content='hi'),\n",
       "  AIMessage(content=\"It's lovely to meet you. Is there something I can help you with or would you like to just chat?\")],\n",
       " 'text': \"It's lovely to meet you. Is there something I can help you with or would you like to just chat?\"}"
      ]
     },
     "execution_count": 6,
     "metadata": {},
     "output_type": "execute_result"
    }
   ],
   "source": [
    "conversation({\"question\": \"hi\"})"
   ]
  },
  {
   "cell_type": "code",
   "execution_count": 7,
   "id": "4d28bdab",
   "metadata": {},
   "outputs": [
    {
     "name": "stdout",
     "output_type": "stream",
     "text": [
      "\n",
      "\n",
      "\u001b[1m> Entering new LLMChain chain...\u001b[0m\n",
      "Prompt after formatting:\n",
      "\u001b[32;1m\u001b[1;3mSystem: You are a nice chatbot having a conversation with a human.\n",
      "Human: hi\n",
      "AI: It's lovely to meet you. Is there something I can help you with or would you like to just chat?\n",
      "Human: My name is Anuj and I love playing badminton.\u001b[0m\n",
      "\n",
      "\u001b[1m> Finished chain.\u001b[0m\n"
     ]
    },
    {
     "data": {
      "text/plain": [
       "{'question': 'My name is Anuj and I love playing badminton.',\n",
       " 'chat_history': [HumanMessage(content='hi'),\n",
       "  AIMessage(content=\"It's lovely to meet you. Is there something I can help you with or would you like to just chat?\"),\n",
       "  HumanMessage(content='My name is Anuj and I love playing badminton.'),\n",
       "  AIMessage(content=\"Nice to meet you, Anuj. Badminton is a fantastic sport - it's great exercise and a lot of fun to play. Do you have a favorite player or team that you like to watch or follow? And do you play competitively or just for recreation?\")],\n",
       " 'text': \"Nice to meet you, Anuj. Badminton is a fantastic sport - it's great exercise and a lot of fun to play. Do you have a favorite player or team that you like to watch or follow? And do you play competitively or just for recreation?\"}"
      ]
     },
     "execution_count": 7,
     "metadata": {},
     "output_type": "execute_result"
    }
   ],
   "source": [
    "\n",
    "conversation({\"question\": \"My name is Anuj and I love playing badminton.\"})"
   ]
  },
  {
   "cell_type": "code",
   "execution_count": 9,
   "id": "7b7c38ac",
   "metadata": {},
   "outputs": [
    {
     "name": "stdout",
     "output_type": "stream",
     "text": [
      "\n",
      "\n",
      "\u001b[1m> Entering new LLMChain chain...\u001b[0m\n",
      "Prompt after formatting:\n",
      "\u001b[32;1m\u001b[1;3mSystem: You are a nice chatbot having a conversation with a human.\n",
      "Human: hi\n",
      "AI: It's lovely to meet you. Is there something I can help you with or would you like to just chat?\n",
      "Human: My name is Anuj and I love playing badminton.\n",
      "AI: Nice to meet you, Anuj. Badminton is a fantastic sport - it's great exercise and a lot of fun to play. Do you have a favorite player or team that you like to watch or follow? And do you play competitively or just for recreation?\n",
      "Human: Do you remember my name?\n",
      "AI: Your name is Anuj. I try to keep track of the conversations I have, so I can recall details like names to make our chat more personal. How's your badminton game going, Anuj?\n",
      "Human: Do you remember my name and which game I love the mosy ?\u001b[0m\n",
      "\n",
      "\u001b[1m> Finished chain.\u001b[0m\n"
     ]
    },
    {
     "data": {
      "text/plain": [
       "{'question': 'Do you remember my name and which game I love the mosy ?',\n",
       " 'chat_history': [HumanMessage(content='hi'),\n",
       "  AIMessage(content=\"It's lovely to meet you. Is there something I can help you with or would you like to just chat?\"),\n",
       "  HumanMessage(content='My name is Anuj and I love playing badminton.'),\n",
       "  AIMessage(content=\"Nice to meet you, Anuj. Badminton is a fantastic sport - it's great exercise and a lot of fun to play. Do you have a favorite player or team that you like to watch or follow? And do you play competitively or just for recreation?\"),\n",
       "  HumanMessage(content='Do you remember my name?'),\n",
       "  AIMessage(content=\"Your name is Anuj. I try to keep track of the conversations I have, so I can recall details like names to make our chat more personal. How's your badminton game going, Anuj?\"),\n",
       "  HumanMessage(content='Do you remember my name and which game I love the mosy ?'),\n",
       "  AIMessage(content=\"I remember that your name is Anuj, and you love playing badminton. I'm glad I could recall that correctly! Badminton is an amazing game, and I'm happy to chat with you about it, Anuj.\")],\n",
       " 'text': \"I remember that your name is Anuj, and you love playing badminton. I'm glad I could recall that correctly! Badminton is an amazing game, and I'm happy to chat with you about it, Anuj.\"}"
      ]
     },
     "execution_count": 9,
     "metadata": {},
     "output_type": "execute_result"
    }
   ],
   "source": [
    "conversation({\"question\": \"Do you remember my name and which game I love the mosy ?\"})"
   ]
  },
  {
   "cell_type": "code",
   "execution_count": 10,
   "id": "8e4eed99",
   "metadata": {},
   "outputs": [
    {
     "name": "stdout",
     "output_type": "stream",
     "text": [
      "[HumanMessage(content='hi'), AIMessage(content=\"It's lovely to meet you. Is there something I can help you with or would you like to just chat?\"), HumanMessage(content='My name is Anuj and I love playing badminton.'), AIMessage(content=\"Nice to meet you, Anuj. Badminton is a fantastic sport - it's great exercise and a lot of fun to play. Do you have a favorite player or team that you like to watch or follow? And do you play competitively or just for recreation?\"), HumanMessage(content='Do you remember my name?'), AIMessage(content=\"Your name is Anuj. I try to keep track of the conversations I have, so I can recall details like names to make our chat more personal. How's your badminton game going, Anuj?\"), HumanMessage(content='Do you remember my name and which game I love the mosy ?'), AIMessage(content=\"I remember that your name is Anuj, and you love playing badminton. I'm glad I could recall that correctly! Badminton is an amazing game, and I'm happy to chat with you about it, Anuj.\")]\n"
     ]
    }
   ],
   "source": [
    "print(memory.buffer)"
   ]
  },
  {
   "cell_type": "markdown",
   "id": "d8ee09bf",
   "metadata": {},
   "source": [
    "## Conversation Buffer Window Memory\n",
    "\n",
    "\n",
    "Similar to the previous one, but you can limit the number of conversational exchanges stored in memory. For example, you can set it so it only remembers the last 3 questions and answers of the conversation."
   ]
  },
  {
   "cell_type": "code",
   "execution_count": 11,
   "id": "dd019290",
   "metadata": {},
   "outputs": [],
   "source": [
    "from langchain.memory import ConversationBufferWindowMemory\n",
    "from langchain.chains import ConversationChain"
   ]
  },
  {
   "cell_type": "code",
   "execution_count": 12,
   "id": "f92d30e1",
   "metadata": {},
   "outputs": [],
   "source": [
    "window_memory = ConversationBufferWindowMemory(k=3)\n"
   ]
  },
  {
   "cell_type": "code",
   "execution_count": 14,
   "id": "b44b7863",
   "metadata": {},
   "outputs": [
    {
     "name": "stderr",
     "output_type": "stream",
     "text": [
      "/var/folders/00/6gmykrw13ylb0nr60ggprq8c0000gn/T/ipykernel_77734/2229703083.py:1: LangChainDeprecationWarning: The class `ConversationChain` was deprecated in LangChain 0.2.7 and will be removed in 1.0. Use RunnableWithMessageHistory: https://api.python.langchain.com/en/latest/runnables/langchain_core.runnables.history.RunnableWithMessageHistory.html instead.\n",
      "  conversation_window = ConversationChain(\n"
     ]
    }
   ],
   "source": [
    "conversation_window = ConversationChain(\n",
    "    llm=llamaChatModel, \n",
    "    memory = window_memory,\n",
    "    verbose=True\n",
    ")"
   ]
  },
  {
   "cell_type": "code",
   "execution_count": 15,
   "id": "9b9f06a8",
   "metadata": {},
   "outputs": [
    {
     "name": "stdout",
     "output_type": "stream",
     "text": [
      "\n",
      "\n",
      "\u001b[1m> Entering new ConversationChain chain...\u001b[0m\n",
      "Prompt after formatting:\n",
      "\u001b[32;1m\u001b[1;3mThe following is a friendly conversation between a human and an AI. The AI is talkative and provides lots of specific details from its context. If the AI does not know the answer to a question, it truthfully says it does not know.\n",
      "\n",
      "Current conversation:\n",
      "\n",
      "Human: Hi, my name is Anuj\n",
      "AI:\u001b[0m\n",
      "\n",
      "\u001b[1m> Finished chain.\u001b[0m\n"
     ]
    },
    {
     "data": {
      "text/plain": [
       "{'input': 'Hi, my name is Anuj',\n",
       " 'history': '',\n",
       " 'response': 'Hello Anuj, it\\'s lovely to meet you. I\\'m an AI designed to engage in conversations and provide information on a wide range of topics. I\\'ve been trained on a vast corpus of text data, which includes but is not limited to, books, articles, research papers, and websites. My training data is current up to 2023, so I\\'m aware of events, trends, and developments up to that point. I can talk to you about science, history, entertainment, culture, and much more. I must say, the name Anuj is of Indian origin, and it means \"young\" or \"new\" in Sanskrit. Is that correct, Anuj? What would you like to talk about today?'}"
      ]
     },
     "execution_count": 15,
     "metadata": {},
     "output_type": "execute_result"
    }
   ],
   "source": [
    "conversation_window({\"input\": \"Hi, my name is Anuj\"})"
   ]
  },
  {
   "cell_type": "code",
   "execution_count": 16,
   "id": "a4ed8563",
   "metadata": {},
   "outputs": [
    {
     "name": "stdout",
     "output_type": "stream",
     "text": [
      "\n",
      "\n",
      "\u001b[1m> Entering new ConversationChain chain...\u001b[0m\n",
      "Prompt after formatting:\n",
      "\u001b[32;1m\u001b[1;3mThe following is a friendly conversation between a human and an AI. The AI is talkative and provides lots of specific details from its context. If the AI does not know the answer to a question, it truthfully says it does not know.\n",
      "\n",
      "Current conversation:\n",
      "Human: Hi, my name is Anuj\n",
      "AI: Hello Anuj, it's lovely to meet you. I'm an AI designed to engage in conversations and provide information on a wide range of topics. I've been trained on a vast corpus of text data, which includes but is not limited to, books, articles, research papers, and websites. My training data is current up to 2023, so I'm aware of events, trends, and developments up to that point. I can talk to you about science, history, entertainment, culture, and much more. I must say, the name Anuj is of Indian origin, and it means \"young\" or \"new\" in Sanskrit. Is that correct, Anuj? What would you like to talk about today?\n",
      "Human: My favorite color is blue\n",
      "AI:\u001b[0m\n",
      "\n",
      "\u001b[1m> Finished chain.\u001b[0m\n"
     ]
    },
    {
     "data": {
      "text/plain": [
       "{'input': 'My favorite color is blue',\n",
       " 'history': 'Human: Hi, my name is Anuj\\nAI: Hello Anuj, it\\'s lovely to meet you. I\\'m an AI designed to engage in conversations and provide information on a wide range of topics. I\\'ve been trained on a vast corpus of text data, which includes but is not limited to, books, articles, research papers, and websites. My training data is current up to 2023, so I\\'m aware of events, trends, and developments up to that point. I can talk to you about science, history, entertainment, culture, and much more. I must say, the name Anuj is of Indian origin, and it means \"young\" or \"new\" in Sanskrit. Is that correct, Anuj? What would you like to talk about today?',\n",
       " 'response': 'Blue is a wonderful color, Anuj. It\\'s a color often associated with feelings of calmness, serenity, and tranquility. Did you know that blue is also a highly versatile color that can be found in various shades and hues in nature, from the pale blue of a clear sky to the deep blue of the ocean? In fact, the ocean alone is home to over 200 species of blue-colored fish, including the blue tang, blue damselfish, and blue marlin. \\n\\nIn terms of human culture, blue has been a significant color throughout history. For example, in ancient Egypt, blue was a symbol of royalty and power, while in many Asian cultures, blue is considered a symbol of good luck and prosperity. In art, blue has been a popular color among many famous painters, including Picasso, who went through a \"Blue Period\" in the early 1900s, characterized by somber and melancholic paintings dominated by shades of blue.\\n\\nWhat is it about the color blue that resonates with you, Anuj? Is there a particular shade or hue that you find most appealing, or perhaps a memory or experience that\\'s linked to the color blue?'}"
      ]
     },
     "execution_count": 16,
     "metadata": {},
     "output_type": "execute_result"
    }
   ],
   "source": [
    "conversation_window({\"input\": \"My favorite color is blue\"})\n"
   ]
  },
  {
   "cell_type": "code",
   "execution_count": 17,
   "id": "a54d877e",
   "metadata": {},
   "outputs": [
    {
     "name": "stdout",
     "output_type": "stream",
     "text": [
      "\n",
      "\n",
      "\u001b[1m> Entering new ConversationChain chain...\u001b[0m\n",
      "Prompt after formatting:\n",
      "\u001b[32;1m\u001b[1;3mThe following is a friendly conversation between a human and an AI. The AI is talkative and provides lots of specific details from its context. If the AI does not know the answer to a question, it truthfully says it does not know.\n",
      "\n",
      "Current conversation:\n",
      "Human: Hi, my name is Anuj\n",
      "AI: Hello Anuj, it's lovely to meet you. I'm an AI designed to engage in conversations and provide information on a wide range of topics. I've been trained on a vast corpus of text data, which includes but is not limited to, books, articles, research papers, and websites. My training data is current up to 2023, so I'm aware of events, trends, and developments up to that point. I can talk to you about science, history, entertainment, culture, and much more. I must say, the name Anuj is of Indian origin, and it means \"young\" or \"new\" in Sanskrit. Is that correct, Anuj? What would you like to talk about today?\n",
      "Human: My favorite color is blue\n",
      "AI: Blue is a wonderful color, Anuj. It's a color often associated with feelings of calmness, serenity, and tranquility. Did you know that blue is also a highly versatile color that can be found in various shades and hues in nature, from the pale blue of a clear sky to the deep blue of the ocean? In fact, the ocean alone is home to over 200 species of blue-colored fish, including the blue tang, blue damselfish, and blue marlin. \n",
      "\n",
      "In terms of human culture, blue has been a significant color throughout history. For example, in ancient Egypt, blue was a symbol of royalty and power, while in many Asian cultures, blue is considered a symbol of good luck and prosperity. In art, blue has been a popular color among many famous painters, including Picasso, who went through a \"Blue Period\" in the early 1900s, characterized by somber and melancholic paintings dominated by shades of blue.\n",
      "\n",
      "What is it about the color blue that resonates with you, Anuj? Is there a particular shade or hue that you find most appealing, or perhaps a memory or experience that's linked to the color blue?\n",
      "Human: My favorite animals are dogs\n",
      "AI:\u001b[0m\n",
      "\n",
      "\u001b[1m> Finished chain.\u001b[0m\n"
     ]
    },
    {
     "data": {
      "text/plain": [
       "{'input': 'My favorite animals are dogs',\n",
       " 'history': 'Human: Hi, my name is Anuj\\nAI: Hello Anuj, it\\'s lovely to meet you. I\\'m an AI designed to engage in conversations and provide information on a wide range of topics. I\\'ve been trained on a vast corpus of text data, which includes but is not limited to, books, articles, research papers, and websites. My training data is current up to 2023, so I\\'m aware of events, trends, and developments up to that point. I can talk to you about science, history, entertainment, culture, and much more. I must say, the name Anuj is of Indian origin, and it means \"young\" or \"new\" in Sanskrit. Is that correct, Anuj? What would you like to talk about today?\\nHuman: My favorite color is blue\\nAI: Blue is a wonderful color, Anuj. It\\'s a color often associated with feelings of calmness, serenity, and tranquility. Did you know that blue is also a highly versatile color that can be found in various shades and hues in nature, from the pale blue of a clear sky to the deep blue of the ocean? In fact, the ocean alone is home to over 200 species of blue-colored fish, including the blue tang, blue damselfish, and blue marlin. \\n\\nIn terms of human culture, blue has been a significant color throughout history. For example, in ancient Egypt, blue was a symbol of royalty and power, while in many Asian cultures, blue is considered a symbol of good luck and prosperity. In art, blue has been a popular color among many famous painters, including Picasso, who went through a \"Blue Period\" in the early 1900s, characterized by somber and melancholic paintings dominated by shades of blue.\\n\\nWhat is it about the color blue that resonates with you, Anuj? Is there a particular shade or hue that you find most appealing, or perhaps a memory or experience that\\'s linked to the color blue?',\n",
       " 'response': 'Dogs are indeed wonderful creatures, Anuj. They\\'re often considered to be man\\'s best friend, and for good reason. With their loyal and affectionate nature, it\\'s no wonder that dogs have been a part of human society for thousands of years. In fact, did you know that dogs were first domesticated from gray wolves around 15,000 to 30,000 years ago, likely in multiple regions, including Asia, Europe, and North America?\\n\\nToday, there are over 340 recognized breeds of dogs, ranging in size, shape, and temperament. From the tiny Chihuahua to the massive Great Dane, each breed has its unique characteristics and traits. Some breeds, like the Border Collie and the Poodle, are highly intelligent and easily trainable, while others, like the Bulldog and the Pug, are known for their affectionate and playful personalities.\\n\\nDogs have also been a popular subject in art, literature, and film throughout history. Who can forget the iconic novel \"Old Yeller\" by Fred Gipson, or the beloved movie \"Hachiko\" about a loyal Akita who waits for his owner to return home every day? In addition, dogs have been a source of inspiration for many famous artists, including Pablo Picasso, who often featured dogs in his artwork.\\n\\nWhat is it about dogs that you find so endearing, Anuj? Do you have a favorite breed, or perhaps a fond memory of a dog that\\'s special to you?'}"
      ]
     },
     "execution_count": 17,
     "metadata": {},
     "output_type": "execute_result"
    }
   ],
   "source": [
    "conversation_window({\"input\": \"My favorite animals are dogs\"})\n"
   ]
  },
  {
   "cell_type": "code",
   "execution_count": 18,
   "id": "4c664b16",
   "metadata": {},
   "outputs": [
    {
     "name": "stdout",
     "output_type": "stream",
     "text": [
      "\n",
      "\n",
      "\u001b[1m> Entering new ConversationChain chain...\u001b[0m\n",
      "Prompt after formatting:\n",
      "\u001b[32;1m\u001b[1;3mThe following is a friendly conversation between a human and an AI. The AI is talkative and provides lots of specific details from its context. If the AI does not know the answer to a question, it truthfully says it does not know.\n",
      "\n",
      "Current conversation:\n",
      "Human: Hi, my name is Anuj\n",
      "AI: Hello Anuj, it's lovely to meet you. I'm an AI designed to engage in conversations and provide information on a wide range of topics. I've been trained on a vast corpus of text data, which includes but is not limited to, books, articles, research papers, and websites. My training data is current up to 2023, so I'm aware of events, trends, and developments up to that point. I can talk to you about science, history, entertainment, culture, and much more. I must say, the name Anuj is of Indian origin, and it means \"young\" or \"new\" in Sanskrit. Is that correct, Anuj? What would you like to talk about today?\n",
      "Human: My favorite color is blue\n",
      "AI: Blue is a wonderful color, Anuj. It's a color often associated with feelings of calmness, serenity, and tranquility. Did you know that blue is also a highly versatile color that can be found in various shades and hues in nature, from the pale blue of a clear sky to the deep blue of the ocean? In fact, the ocean alone is home to over 200 species of blue-colored fish, including the blue tang, blue damselfish, and blue marlin. \n",
      "\n",
      "In terms of human culture, blue has been a significant color throughout history. For example, in ancient Egypt, blue was a symbol of royalty and power, while in many Asian cultures, blue is considered a symbol of good luck and prosperity. In art, blue has been a popular color among many famous painters, including Picasso, who went through a \"Blue Period\" in the early 1900s, characterized by somber and melancholic paintings dominated by shades of blue.\n",
      "\n",
      "What is it about the color blue that resonates with you, Anuj? Is there a particular shade or hue that you find most appealing, or perhaps a memory or experience that's linked to the color blue?\n",
      "Human: My favorite animals are dogs\n",
      "AI: Dogs are indeed wonderful creatures, Anuj. They're often considered to be man's best friend, and for good reason. With their loyal and affectionate nature, it's no wonder that dogs have been a part of human society for thousands of years. In fact, did you know that dogs were first domesticated from gray wolves around 15,000 to 30,000 years ago, likely in multiple regions, including Asia, Europe, and North America?\n",
      "\n",
      "Today, there are over 340 recognized breeds of dogs, ranging in size, shape, and temperament. From the tiny Chihuahua to the massive Great Dane, each breed has its unique characteristics and traits. Some breeds, like the Border Collie and the Poodle, are highly intelligent and easily trainable, while others, like the Bulldog and the Pug, are known for their affectionate and playful personalities.\n",
      "\n",
      "Dogs have also been a popular subject in art, literature, and film throughout history. Who can forget the iconic novel \"Old Yeller\" by Fred Gipson, or the beloved movie \"Hachiko\" about a loyal Akita who waits for his owner to return home every day? In addition, dogs have been a source of inspiration for many famous artists, including Pablo Picasso, who often featured dogs in his artwork.\n",
      "\n",
      "What is it about dogs that you find so endearing, Anuj? Do you have a favorite breed, or perhaps a fond memory of a dog that's special to you?\n",
      "Human: I like to drive a vespa scooter in the city\n",
      "AI:\u001b[0m\n",
      "\n",
      "\u001b[1m> Finished chain.\u001b[0m\n"
     ]
    },
    {
     "data": {
      "text/plain": [
       "{'input': 'I like to drive a vespa scooter in the city',\n",
       " 'history': 'Human: Hi, my name is Anuj\\nAI: Hello Anuj, it\\'s lovely to meet you. I\\'m an AI designed to engage in conversations and provide information on a wide range of topics. I\\'ve been trained on a vast corpus of text data, which includes but is not limited to, books, articles, research papers, and websites. My training data is current up to 2023, so I\\'m aware of events, trends, and developments up to that point. I can talk to you about science, history, entertainment, culture, and much more. I must say, the name Anuj is of Indian origin, and it means \"young\" or \"new\" in Sanskrit. Is that correct, Anuj? What would you like to talk about today?\\nHuman: My favorite color is blue\\nAI: Blue is a wonderful color, Anuj. It\\'s a color often associated with feelings of calmness, serenity, and tranquility. Did you know that blue is also a highly versatile color that can be found in various shades and hues in nature, from the pale blue of a clear sky to the deep blue of the ocean? In fact, the ocean alone is home to over 200 species of blue-colored fish, including the blue tang, blue damselfish, and blue marlin. \\n\\nIn terms of human culture, blue has been a significant color throughout history. For example, in ancient Egypt, blue was a symbol of royalty and power, while in many Asian cultures, blue is considered a symbol of good luck and prosperity. In art, blue has been a popular color among many famous painters, including Picasso, who went through a \"Blue Period\" in the early 1900s, characterized by somber and melancholic paintings dominated by shades of blue.\\n\\nWhat is it about the color blue that resonates with you, Anuj? Is there a particular shade or hue that you find most appealing, or perhaps a memory or experience that\\'s linked to the color blue?\\nHuman: My favorite animals are dogs\\nAI: Dogs are indeed wonderful creatures, Anuj. They\\'re often considered to be man\\'s best friend, and for good reason. With their loyal and affectionate nature, it\\'s no wonder that dogs have been a part of human society for thousands of years. In fact, did you know that dogs were first domesticated from gray wolves around 15,000 to 30,000 years ago, likely in multiple regions, including Asia, Europe, and North America?\\n\\nToday, there are over 340 recognized breeds of dogs, ranging in size, shape, and temperament. From the tiny Chihuahua to the massive Great Dane, each breed has its unique characteristics and traits. Some breeds, like the Border Collie and the Poodle, are highly intelligent and easily trainable, while others, like the Bulldog and the Pug, are known for their affectionate and playful personalities.\\n\\nDogs have also been a popular subject in art, literature, and film throughout history. Who can forget the iconic novel \"Old Yeller\" by Fred Gipson, or the beloved movie \"Hachiko\" about a loyal Akita who waits for his owner to return home every day? In addition, dogs have been a source of inspiration for many famous artists, including Pablo Picasso, who often featured dogs in his artwork.\\n\\nWhat is it about dogs that you find so endearing, Anuj? Do you have a favorite breed, or perhaps a fond memory of a dog that\\'s special to you?',\n",
       " 'response': 'Vespa scooters are a classic choice for navigating city streets, Anuj. With their sleek design, agile handling, and fuel-efficient engines, it\\'s no wonder that Vespas have become a popular mode of transportation in urban areas around the world. Did you know that the first Vespa scooter was produced in 1946 by Piaggio, an Italian company founded by Rinaldo Piaggio? The name \"Vespa\" is Italian for \"wasp,\" which was chosen because the scooter\\'s shape and sound were reminiscent of the insect.\\n\\nVespa scooters have a rich history, and they\\'ve been a part of many cultural movements over the years. In the 1950s and 1960s, Vespas became a symbol of freedom and rebellion, particularly among the mod subculture in the UK. The scooters were often customized with bright colors, elaborate decorations, and performance enhancements, reflecting the owners\\' personalities and style.\\n\\nToday, Vespa scooters are still popular among city dwellers, commuters, and enthusiasts alike. With their compact size, easy maneuverability, and relatively low operating costs, Vespas are an attractive option for navigating congested city streets. Many cities around the world, including Paris, Rome, and Tokyo, have a strong Vespa culture, with numerous scooter clubs, rental services, and enthusiasts\\' groups.\\n\\nWhat is it about driving a Vespa scooter that you enjoy, Anuj? Is it the sense of freedom, the thrill of navigating through tight spaces, or perhaps the stylish design that appeals to you? Do you have a favorite route or destination that you like to ride to on your Vespa?'}"
      ]
     },
     "execution_count": 18,
     "metadata": {},
     "output_type": "execute_result"
    }
   ],
   "source": [
    "conversation_window({\"input\": \"I like to drive a vespa scooter in the city\"})\n"
   ]
  },
  {
   "cell_type": "code",
   "execution_count": 19,
   "id": "30b12650",
   "metadata": {},
   "outputs": [
    {
     "name": "stdout",
     "output_type": "stream",
     "text": [
      "\n",
      "\n",
      "\u001b[1m> Entering new ConversationChain chain...\u001b[0m\n",
      "Prompt after formatting:\n",
      "\u001b[32;1m\u001b[1;3mThe following is a friendly conversation between a human and an AI. The AI is talkative and provides lots of specific details from its context. If the AI does not know the answer to a question, it truthfully says it does not know.\n",
      "\n",
      "Current conversation:\n",
      "Human: My favorite color is blue\n",
      "AI: Blue is a wonderful color, Anuj. It's a color often associated with feelings of calmness, serenity, and tranquility. Did you know that blue is also a highly versatile color that can be found in various shades and hues in nature, from the pale blue of a clear sky to the deep blue of the ocean? In fact, the ocean alone is home to over 200 species of blue-colored fish, including the blue tang, blue damselfish, and blue marlin. \n",
      "\n",
      "In terms of human culture, blue has been a significant color throughout history. For example, in ancient Egypt, blue was a symbol of royalty and power, while in many Asian cultures, blue is considered a symbol of good luck and prosperity. In art, blue has been a popular color among many famous painters, including Picasso, who went through a \"Blue Period\" in the early 1900s, characterized by somber and melancholic paintings dominated by shades of blue.\n",
      "\n",
      "What is it about the color blue that resonates with you, Anuj? Is there a particular shade or hue that you find most appealing, or perhaps a memory or experience that's linked to the color blue?\n",
      "Human: My favorite animals are dogs\n",
      "AI: Dogs are indeed wonderful creatures, Anuj. They're often considered to be man's best friend, and for good reason. With their loyal and affectionate nature, it's no wonder that dogs have been a part of human society for thousands of years. In fact, did you know that dogs were first domesticated from gray wolves around 15,000 to 30,000 years ago, likely in multiple regions, including Asia, Europe, and North America?\n",
      "\n",
      "Today, there are over 340 recognized breeds of dogs, ranging in size, shape, and temperament. From the tiny Chihuahua to the massive Great Dane, each breed has its unique characteristics and traits. Some breeds, like the Border Collie and the Poodle, are highly intelligent and easily trainable, while others, like the Bulldog and the Pug, are known for their affectionate and playful personalities.\n",
      "\n",
      "Dogs have also been a popular subject in art, literature, and film throughout history. Who can forget the iconic novel \"Old Yeller\" by Fred Gipson, or the beloved movie \"Hachiko\" about a loyal Akita who waits for his owner to return home every day? In addition, dogs have been a source of inspiration for many famous artists, including Pablo Picasso, who often featured dogs in his artwork.\n",
      "\n",
      "What is it about dogs that you find so endearing, Anuj? Do you have a favorite breed, or perhaps a fond memory of a dog that's special to you?\n",
      "Human: I like to drive a vespa scooter in the city\n",
      "AI: Vespa scooters are a classic choice for navigating city streets, Anuj. With their sleek design, agile handling, and fuel-efficient engines, it's no wonder that Vespas have become a popular mode of transportation in urban areas around the world. Did you know that the first Vespa scooter was produced in 1946 by Piaggio, an Italian company founded by Rinaldo Piaggio? The name \"Vespa\" is Italian for \"wasp,\" which was chosen because the scooter's shape and sound were reminiscent of the insect.\n",
      "\n",
      "Vespa scooters have a rich history, and they've been a part of many cultural movements over the years. In the 1950s and 1960s, Vespas became a symbol of freedom and rebellion, particularly among the mod subculture in the UK. The scooters were often customized with bright colors, elaborate decorations, and performance enhancements, reflecting the owners' personalities and style.\n",
      "\n",
      "Today, Vespa scooters are still popular among city dwellers, commuters, and enthusiasts alike. With their compact size, easy maneuverability, and relatively low operating costs, Vespas are an attractive option for navigating congested city streets. Many cities around the world, including Paris, Rome, and Tokyo, have a strong Vespa culture, with numerous scooter clubs, rental services, and enthusiasts' groups.\n",
      "\n",
      "What is it about driving a Vespa scooter that you enjoy, Anuj? Is it the sense of freedom, the thrill of navigating through tight spaces, or perhaps the stylish design that appeals to you? Do you have a favorite route or destination that you like to ride to on your Vespa?\n",
      "Human: My favorite city is San Francisco\n",
      "AI:\u001b[0m\n",
      "\n",
      "\u001b[1m> Finished chain.\u001b[0m\n"
     ]
    },
    {
     "data": {
      "text/plain": [
       "{'input': 'My favorite city is San Francisco',\n",
       " 'history': 'Human: My favorite color is blue\\nAI: Blue is a wonderful color, Anuj. It\\'s a color often associated with feelings of calmness, serenity, and tranquility. Did you know that blue is also a highly versatile color that can be found in various shades and hues in nature, from the pale blue of a clear sky to the deep blue of the ocean? In fact, the ocean alone is home to over 200 species of blue-colored fish, including the blue tang, blue damselfish, and blue marlin. \\n\\nIn terms of human culture, blue has been a significant color throughout history. For example, in ancient Egypt, blue was a symbol of royalty and power, while in many Asian cultures, blue is considered a symbol of good luck and prosperity. In art, blue has been a popular color among many famous painters, including Picasso, who went through a \"Blue Period\" in the early 1900s, characterized by somber and melancholic paintings dominated by shades of blue.\\n\\nWhat is it about the color blue that resonates with you, Anuj? Is there a particular shade or hue that you find most appealing, or perhaps a memory or experience that\\'s linked to the color blue?\\nHuman: My favorite animals are dogs\\nAI: Dogs are indeed wonderful creatures, Anuj. They\\'re often considered to be man\\'s best friend, and for good reason. With their loyal and affectionate nature, it\\'s no wonder that dogs have been a part of human society for thousands of years. In fact, did you know that dogs were first domesticated from gray wolves around 15,000 to 30,000 years ago, likely in multiple regions, including Asia, Europe, and North America?\\n\\nToday, there are over 340 recognized breeds of dogs, ranging in size, shape, and temperament. From the tiny Chihuahua to the massive Great Dane, each breed has its unique characteristics and traits. Some breeds, like the Border Collie and the Poodle, are highly intelligent and easily trainable, while others, like the Bulldog and the Pug, are known for their affectionate and playful personalities.\\n\\nDogs have also been a popular subject in art, literature, and film throughout history. Who can forget the iconic novel \"Old Yeller\" by Fred Gipson, or the beloved movie \"Hachiko\" about a loyal Akita who waits for his owner to return home every day? In addition, dogs have been a source of inspiration for many famous artists, including Pablo Picasso, who often featured dogs in his artwork.\\n\\nWhat is it about dogs that you find so endearing, Anuj? Do you have a favorite breed, or perhaps a fond memory of a dog that\\'s special to you?\\nHuman: I like to drive a vespa scooter in the city\\nAI: Vespa scooters are a classic choice for navigating city streets, Anuj. With their sleek design, agile handling, and fuel-efficient engines, it\\'s no wonder that Vespas have become a popular mode of transportation in urban areas around the world. Did you know that the first Vespa scooter was produced in 1946 by Piaggio, an Italian company founded by Rinaldo Piaggio? The name \"Vespa\" is Italian for \"wasp,\" which was chosen because the scooter\\'s shape and sound were reminiscent of the insect.\\n\\nVespa scooters have a rich history, and they\\'ve been a part of many cultural movements over the years. In the 1950s and 1960s, Vespas became a symbol of freedom and rebellion, particularly among the mod subculture in the UK. The scooters were often customized with bright colors, elaborate decorations, and performance enhancements, reflecting the owners\\' personalities and style.\\n\\nToday, Vespa scooters are still popular among city dwellers, commuters, and enthusiasts alike. With their compact size, easy maneuverability, and relatively low operating costs, Vespas are an attractive option for navigating congested city streets. Many cities around the world, including Paris, Rome, and Tokyo, have a strong Vespa culture, with numerous scooter clubs, rental services, and enthusiasts\\' groups.\\n\\nWhat is it about driving a Vespa scooter that you enjoy, Anuj? Is it the sense of freedom, the thrill of navigating through tight spaces, or perhaps the stylish design that appeals to you? Do you have a favorite route or destination that you like to ride to on your Vespa?',\n",
       " 'response': \"San Francisco is a wonderful city, Anuj. Known for its iconic Golden Gate Bridge, steep hills, and colorful Victorian homes, San Francisco is a popular destination for tourists and a beloved home for its residents. Did you know that San Francisco is situated on the San Andreas Fault, and its unique geology has shaped the city's landscape over millions of years? The city's diverse neighborhoods, such as Haight-Ashbury, Fisherman's Wharf, and Chinatown, each have their own distinct character and charm.\\n\\nSan Francisco has a rich cultural and historical heritage, from the California Gold Rush of the mid-1800s to the Summer of Love in 1967, which saw a massive influx of young people and artists converging on the city's Haight-Ashbury neighborhood. Today, San Francisco is a hub for technology and innovation, with Silicon Valley and many prominent tech companies, including Twitter, Airbnb, and Uber, calling the city home.\\n\\nThe city is also famous for its vibrant arts and cultural scene, with numerous museums, galleries, and performance venues, such as the de Young Museum, the San Francisco Museum of Modern Art, and the American Conservatory Theater. And, of course, no visit to San Francisco would be complete without trying some of the city's renowned cuisine, including fresh seafood, sourdough bread, and authentic Chinese dim sum in Chinatown.\\n\\nAs a Vespa scooter enthusiast, you might enjoy exploring San Francisco's scenic streets and neighborhoods, such as the crooked Lombard Street, the winding roads of Twin Peaks, or the picturesque waterfront along the Embarcadero. What is it about San Francisco that resonates with you, Anuj? Is it the city's eclectic mix of cultures, its stunning natural beauty, or perhaps its thriving tech and arts scene? Do you have a favorite spot or activity that you enjoy when visiting San Francisco?\"}"
      ]
     },
     "execution_count": 19,
     "metadata": {},
     "output_type": "execute_result"
    }
   ],
   "source": [
    "conversation_window({\"input\": \"My favorite city is San Francisco\"})\n"
   ]
  },
  {
   "cell_type": "code",
   "execution_count": 20,
   "id": "ce467cad",
   "metadata": {},
   "outputs": [
    {
     "name": "stdout",
     "output_type": "stream",
     "text": [
      "\n",
      "\n",
      "\u001b[1m> Entering new ConversationChain chain...\u001b[0m\n",
      "Prompt after formatting:\n",
      "\u001b[32;1m\u001b[1;3mThe following is a friendly conversation between a human and an AI. The AI is talkative and provides lots of specific details from its context. If the AI does not know the answer to a question, it truthfully says it does not know.\n",
      "\n",
      "Current conversation:\n",
      "Human: My favorite animals are dogs\n",
      "AI: Dogs are indeed wonderful creatures, Anuj. They're often considered to be man's best friend, and for good reason. With their loyal and affectionate nature, it's no wonder that dogs have been a part of human society for thousands of years. In fact, did you know that dogs were first domesticated from gray wolves around 15,000 to 30,000 years ago, likely in multiple regions, including Asia, Europe, and North America?\n",
      "\n",
      "Today, there are over 340 recognized breeds of dogs, ranging in size, shape, and temperament. From the tiny Chihuahua to the massive Great Dane, each breed has its unique characteristics and traits. Some breeds, like the Border Collie and the Poodle, are highly intelligent and easily trainable, while others, like the Bulldog and the Pug, are known for their affectionate and playful personalities.\n",
      "\n",
      "Dogs have also been a popular subject in art, literature, and film throughout history. Who can forget the iconic novel \"Old Yeller\" by Fred Gipson, or the beloved movie \"Hachiko\" about a loyal Akita who waits for his owner to return home every day? In addition, dogs have been a source of inspiration for many famous artists, including Pablo Picasso, who often featured dogs in his artwork.\n",
      "\n",
      "What is it about dogs that you find so endearing, Anuj? Do you have a favorite breed, or perhaps a fond memory of a dog that's special to you?\n",
      "Human: I like to drive a vespa scooter in the city\n",
      "AI: Vespa scooters are a classic choice for navigating city streets, Anuj. With their sleek design, agile handling, and fuel-efficient engines, it's no wonder that Vespas have become a popular mode of transportation in urban areas around the world. Did you know that the first Vespa scooter was produced in 1946 by Piaggio, an Italian company founded by Rinaldo Piaggio? The name \"Vespa\" is Italian for \"wasp,\" which was chosen because the scooter's shape and sound were reminiscent of the insect.\n",
      "\n",
      "Vespa scooters have a rich history, and they've been a part of many cultural movements over the years. In the 1950s and 1960s, Vespas became a symbol of freedom and rebellion, particularly among the mod subculture in the UK. The scooters were often customized with bright colors, elaborate decorations, and performance enhancements, reflecting the owners' personalities and style.\n",
      "\n",
      "Today, Vespa scooters are still popular among city dwellers, commuters, and enthusiasts alike. With their compact size, easy maneuverability, and relatively low operating costs, Vespas are an attractive option for navigating congested city streets. Many cities around the world, including Paris, Rome, and Tokyo, have a strong Vespa culture, with numerous scooter clubs, rental services, and enthusiasts' groups.\n",
      "\n",
      "What is it about driving a Vespa scooter that you enjoy, Anuj? Is it the sense of freedom, the thrill of navigating through tight spaces, or perhaps the stylish design that appeals to you? Do you have a favorite route or destination that you like to ride to on your Vespa?\n",
      "Human: My favorite city is San Francisco\n",
      "AI: San Francisco is a wonderful city, Anuj. Known for its iconic Golden Gate Bridge, steep hills, and colorful Victorian homes, San Francisco is a popular destination for tourists and a beloved home for its residents. Did you know that San Francisco is situated on the San Andreas Fault, and its unique geology has shaped the city's landscape over millions of years? The city's diverse neighborhoods, such as Haight-Ashbury, Fisherman's Wharf, and Chinatown, each have their own distinct character and charm.\n",
      "\n",
      "San Francisco has a rich cultural and historical heritage, from the California Gold Rush of the mid-1800s to the Summer of Love in 1967, which saw a massive influx of young people and artists converging on the city's Haight-Ashbury neighborhood. Today, San Francisco is a hub for technology and innovation, with Silicon Valley and many prominent tech companies, including Twitter, Airbnb, and Uber, calling the city home.\n",
      "\n",
      "The city is also famous for its vibrant arts and cultural scene, with numerous museums, galleries, and performance venues, such as the de Young Museum, the San Francisco Museum of Modern Art, and the American Conservatory Theater. And, of course, no visit to San Francisco would be complete without trying some of the city's renowned cuisine, including fresh seafood, sourdough bread, and authentic Chinese dim sum in Chinatown.\n",
      "\n",
      "As a Vespa scooter enthusiast, you might enjoy exploring San Francisco's scenic streets and neighborhoods, such as the crooked Lombard Street, the winding roads of Twin Peaks, or the picturesque waterfront along the Embarcadero. What is it about San Francisco that resonates with you, Anuj? Is it the city's eclectic mix of cultures, its stunning natural beauty, or perhaps its thriving tech and arts scene? Do you have a favorite spot or activity that you enjoy when visiting San Francisco?\n",
      "Human: What is my favorite color?\n",
      "AI:\u001b[0m\n",
      "\n",
      "\u001b[1m> Finished chain.\u001b[0m\n"
     ]
    },
    {
     "data": {
      "text/plain": [
       "{'input': 'What is my favorite color?',\n",
       " 'history': 'Human: My favorite animals are dogs\\nAI: Dogs are indeed wonderful creatures, Anuj. They\\'re often considered to be man\\'s best friend, and for good reason. With their loyal and affectionate nature, it\\'s no wonder that dogs have been a part of human society for thousands of years. In fact, did you know that dogs were first domesticated from gray wolves around 15,000 to 30,000 years ago, likely in multiple regions, including Asia, Europe, and North America?\\n\\nToday, there are over 340 recognized breeds of dogs, ranging in size, shape, and temperament. From the tiny Chihuahua to the massive Great Dane, each breed has its unique characteristics and traits. Some breeds, like the Border Collie and the Poodle, are highly intelligent and easily trainable, while others, like the Bulldog and the Pug, are known for their affectionate and playful personalities.\\n\\nDogs have also been a popular subject in art, literature, and film throughout history. Who can forget the iconic novel \"Old Yeller\" by Fred Gipson, or the beloved movie \"Hachiko\" about a loyal Akita who waits for his owner to return home every day? In addition, dogs have been a source of inspiration for many famous artists, including Pablo Picasso, who often featured dogs in his artwork.\\n\\nWhat is it about dogs that you find so endearing, Anuj? Do you have a favorite breed, or perhaps a fond memory of a dog that\\'s special to you?\\nHuman: I like to drive a vespa scooter in the city\\nAI: Vespa scooters are a classic choice for navigating city streets, Anuj. With their sleek design, agile handling, and fuel-efficient engines, it\\'s no wonder that Vespas have become a popular mode of transportation in urban areas around the world. Did you know that the first Vespa scooter was produced in 1946 by Piaggio, an Italian company founded by Rinaldo Piaggio? The name \"Vespa\" is Italian for \"wasp,\" which was chosen because the scooter\\'s shape and sound were reminiscent of the insect.\\n\\nVespa scooters have a rich history, and they\\'ve been a part of many cultural movements over the years. In the 1950s and 1960s, Vespas became a symbol of freedom and rebellion, particularly among the mod subculture in the UK. The scooters were often customized with bright colors, elaborate decorations, and performance enhancements, reflecting the owners\\' personalities and style.\\n\\nToday, Vespa scooters are still popular among city dwellers, commuters, and enthusiasts alike. With their compact size, easy maneuverability, and relatively low operating costs, Vespas are an attractive option for navigating congested city streets. Many cities around the world, including Paris, Rome, and Tokyo, have a strong Vespa culture, with numerous scooter clubs, rental services, and enthusiasts\\' groups.\\n\\nWhat is it about driving a Vespa scooter that you enjoy, Anuj? Is it the sense of freedom, the thrill of navigating through tight spaces, or perhaps the stylish design that appeals to you? Do you have a favorite route or destination that you like to ride to on your Vespa?\\nHuman: My favorite city is San Francisco\\nAI: San Francisco is a wonderful city, Anuj. Known for its iconic Golden Gate Bridge, steep hills, and colorful Victorian homes, San Francisco is a popular destination for tourists and a beloved home for its residents. Did you know that San Francisco is situated on the San Andreas Fault, and its unique geology has shaped the city\\'s landscape over millions of years? The city\\'s diverse neighborhoods, such as Haight-Ashbury, Fisherman\\'s Wharf, and Chinatown, each have their own distinct character and charm.\\n\\nSan Francisco has a rich cultural and historical heritage, from the California Gold Rush of the mid-1800s to the Summer of Love in 1967, which saw a massive influx of young people and artists converging on the city\\'s Haight-Ashbury neighborhood. Today, San Francisco is a hub for technology and innovation, with Silicon Valley and many prominent tech companies, including Twitter, Airbnb, and Uber, calling the city home.\\n\\nThe city is also famous for its vibrant arts and cultural scene, with numerous museums, galleries, and performance venues, such as the de Young Museum, the San Francisco Museum of Modern Art, and the American Conservatory Theater. And, of course, no visit to San Francisco would be complete without trying some of the city\\'s renowned cuisine, including fresh seafood, sourdough bread, and authentic Chinese dim sum in Chinatown.\\n\\nAs a Vespa scooter enthusiast, you might enjoy exploring San Francisco\\'s scenic streets and neighborhoods, such as the crooked Lombard Street, the winding roads of Twin Peaks, or the picturesque waterfront along the Embarcadero. What is it about San Francisco that resonates with you, Anuj? Is it the city\\'s eclectic mix of cultures, its stunning natural beauty, or perhaps its thriving tech and arts scene? Do you have a favorite spot or activity that you enjoy when visiting San Francisco?',\n",
       " 'response': \"I don't know what your favorite color is, Anuj. We haven't discussed colors or personal preferences related to colors in our conversation so far. I'd be happy to learn more about your favorite color, though! Is there a particular color that you're especially fond of, or one that holds a special meaning for you?\"}"
      ]
     },
     "execution_count": 20,
     "metadata": {},
     "output_type": "execute_result"
    }
   ],
   "source": [
    "conversation_window({\"input\": \"What is my favorite color?\"})\n"
   ]
  },
  {
   "cell_type": "code",
   "execution_count": 21,
   "id": "10f19c70",
   "metadata": {},
   "outputs": [
    {
     "name": "stdout",
     "output_type": "stream",
     "text": [
      "\n",
      "\n",
      "\u001b[1m> Entering new ConversationChain chain...\u001b[0m\n",
      "Prompt after formatting:\n",
      "\u001b[32;1m\u001b[1;3mThe following is a friendly conversation between a human and an AI. The AI is talkative and provides lots of specific details from its context. If the AI does not know the answer to a question, it truthfully says it does not know.\n",
      "\n",
      "Current conversation:\n",
      "Human: I like to drive a vespa scooter in the city\n",
      "AI: Vespa scooters are a classic choice for navigating city streets, Anuj. With their sleek design, agile handling, and fuel-efficient engines, it's no wonder that Vespas have become a popular mode of transportation in urban areas around the world. Did you know that the first Vespa scooter was produced in 1946 by Piaggio, an Italian company founded by Rinaldo Piaggio? The name \"Vespa\" is Italian for \"wasp,\" which was chosen because the scooter's shape and sound were reminiscent of the insect.\n",
      "\n",
      "Vespa scooters have a rich history, and they've been a part of many cultural movements over the years. In the 1950s and 1960s, Vespas became a symbol of freedom and rebellion, particularly among the mod subculture in the UK. The scooters were often customized with bright colors, elaborate decorations, and performance enhancements, reflecting the owners' personalities and style.\n",
      "\n",
      "Today, Vespa scooters are still popular among city dwellers, commuters, and enthusiasts alike. With their compact size, easy maneuverability, and relatively low operating costs, Vespas are an attractive option for navigating congested city streets. Many cities around the world, including Paris, Rome, and Tokyo, have a strong Vespa culture, with numerous scooter clubs, rental services, and enthusiasts' groups.\n",
      "\n",
      "What is it about driving a Vespa scooter that you enjoy, Anuj? Is it the sense of freedom, the thrill of navigating through tight spaces, or perhaps the stylish design that appeals to you? Do you have a favorite route or destination that you like to ride to on your Vespa?\n",
      "Human: My favorite city is San Francisco\n",
      "AI: San Francisco is a wonderful city, Anuj. Known for its iconic Golden Gate Bridge, steep hills, and colorful Victorian homes, San Francisco is a popular destination for tourists and a beloved home for its residents. Did you know that San Francisco is situated on the San Andreas Fault, and its unique geology has shaped the city's landscape over millions of years? The city's diverse neighborhoods, such as Haight-Ashbury, Fisherman's Wharf, and Chinatown, each have their own distinct character and charm.\n",
      "\n",
      "San Francisco has a rich cultural and historical heritage, from the California Gold Rush of the mid-1800s to the Summer of Love in 1967, which saw a massive influx of young people and artists converging on the city's Haight-Ashbury neighborhood. Today, San Francisco is a hub for technology and innovation, with Silicon Valley and many prominent tech companies, including Twitter, Airbnb, and Uber, calling the city home.\n",
      "\n",
      "The city is also famous for its vibrant arts and cultural scene, with numerous museums, galleries, and performance venues, such as the de Young Museum, the San Francisco Museum of Modern Art, and the American Conservatory Theater. And, of course, no visit to San Francisco would be complete without trying some of the city's renowned cuisine, including fresh seafood, sourdough bread, and authentic Chinese dim sum in Chinatown.\n",
      "\n",
      "As a Vespa scooter enthusiast, you might enjoy exploring San Francisco's scenic streets and neighborhoods, such as the crooked Lombard Street, the winding roads of Twin Peaks, or the picturesque waterfront along the Embarcadero. What is it about San Francisco that resonates with you, Anuj? Is it the city's eclectic mix of cultures, its stunning natural beauty, or perhaps its thriving tech and arts scene? Do you have a favorite spot or activity that you enjoy when visiting San Francisco?\n",
      "Human: What is my favorite color?\n",
      "AI: I don't know what your favorite color is, Anuj. We haven't discussed colors or personal preferences related to colors in our conversation so far. I'd be happy to learn more about your favorite color, though! Is there a particular color that you're especially fond of, or one that holds a special meaning for you?\n",
      "Human: What is my favorite city?\n",
      "AI:\u001b[0m\n",
      "\n",
      "\u001b[1m> Finished chain.\u001b[0m\n"
     ]
    },
    {
     "data": {
      "text/plain": [
       "{'input': 'What is my favorite city?',\n",
       " 'history': 'Human: I like to drive a vespa scooter in the city\\nAI: Vespa scooters are a classic choice for navigating city streets, Anuj. With their sleek design, agile handling, and fuel-efficient engines, it\\'s no wonder that Vespas have become a popular mode of transportation in urban areas around the world. Did you know that the first Vespa scooter was produced in 1946 by Piaggio, an Italian company founded by Rinaldo Piaggio? The name \"Vespa\" is Italian for \"wasp,\" which was chosen because the scooter\\'s shape and sound were reminiscent of the insect.\\n\\nVespa scooters have a rich history, and they\\'ve been a part of many cultural movements over the years. In the 1950s and 1960s, Vespas became a symbol of freedom and rebellion, particularly among the mod subculture in the UK. The scooters were often customized with bright colors, elaborate decorations, and performance enhancements, reflecting the owners\\' personalities and style.\\n\\nToday, Vespa scooters are still popular among city dwellers, commuters, and enthusiasts alike. With their compact size, easy maneuverability, and relatively low operating costs, Vespas are an attractive option for navigating congested city streets. Many cities around the world, including Paris, Rome, and Tokyo, have a strong Vespa culture, with numerous scooter clubs, rental services, and enthusiasts\\' groups.\\n\\nWhat is it about driving a Vespa scooter that you enjoy, Anuj? Is it the sense of freedom, the thrill of navigating through tight spaces, or perhaps the stylish design that appeals to you? Do you have a favorite route or destination that you like to ride to on your Vespa?\\nHuman: My favorite city is San Francisco\\nAI: San Francisco is a wonderful city, Anuj. Known for its iconic Golden Gate Bridge, steep hills, and colorful Victorian homes, San Francisco is a popular destination for tourists and a beloved home for its residents. Did you know that San Francisco is situated on the San Andreas Fault, and its unique geology has shaped the city\\'s landscape over millions of years? The city\\'s diverse neighborhoods, such as Haight-Ashbury, Fisherman\\'s Wharf, and Chinatown, each have their own distinct character and charm.\\n\\nSan Francisco has a rich cultural and historical heritage, from the California Gold Rush of the mid-1800s to the Summer of Love in 1967, which saw a massive influx of young people and artists converging on the city\\'s Haight-Ashbury neighborhood. Today, San Francisco is a hub for technology and innovation, with Silicon Valley and many prominent tech companies, including Twitter, Airbnb, and Uber, calling the city home.\\n\\nThe city is also famous for its vibrant arts and cultural scene, with numerous museums, galleries, and performance venues, such as the de Young Museum, the San Francisco Museum of Modern Art, and the American Conservatory Theater. And, of course, no visit to San Francisco would be complete without trying some of the city\\'s renowned cuisine, including fresh seafood, sourdough bread, and authentic Chinese dim sum in Chinatown.\\n\\nAs a Vespa scooter enthusiast, you might enjoy exploring San Francisco\\'s scenic streets and neighborhoods, such as the crooked Lombard Street, the winding roads of Twin Peaks, or the picturesque waterfront along the Embarcadero. What is it about San Francisco that resonates with you, Anuj? Is it the city\\'s eclectic mix of cultures, its stunning natural beauty, or perhaps its thriving tech and arts scene? Do you have a favorite spot or activity that you enjoy when visiting San Francisco?\\nHuman: What is my favorite color?\\nAI: I don\\'t know what your favorite color is, Anuj. We haven\\'t discussed colors or personal preferences related to colors in our conversation so far. I\\'d be happy to learn more about your favorite color, though! Is there a particular color that you\\'re especially fond of, or one that holds a special meaning for you?',\n",
       " 'response': \"Your favorite city is San Francisco, Anuj. We discussed it earlier in our conversation, and you mentioned that San Francisco is your favorite city. I recall sharing some interesting facts and information about the city, from its unique geology and cultural heritage to its vibrant arts and culinary scene. Is there something specific you'd like to know or explore further about San Francisco?\"}"
      ]
     },
     "execution_count": 21,
     "metadata": {},
     "output_type": "execute_result"
    }
   ],
   "source": [
    "conversation_window({\"input\": \"What is my favorite city?\"})\n"
   ]
  },
  {
   "cell_type": "markdown",
   "id": "e06c0ea5",
   "metadata": {},
   "source": [
    "## Chat Message History\n",
    "Save list of chat messages and then fetch them all."
   ]
  },
  {
   "cell_type": "code",
   "execution_count": 22,
   "id": "2e92cc7a",
   "metadata": {},
   "outputs": [],
   "source": [
    "from langchain.memory import ChatMessageHistory\n",
    "\n",
    "history = ChatMessageHistory()\n",
    "\n",
    "history.add_user_message(\"hi!\")\n",
    "\n",
    "history.add_ai_message(\"whats up?\")"
   ]
  },
  {
   "cell_type": "code",
   "execution_count": 23,
   "id": "fa2eed20",
   "metadata": {},
   "outputs": [
    {
     "data": {
      "text/plain": [
       "[HumanMessage(content='hi!'), AIMessage(content='whats up?')]"
      ]
     },
     "execution_count": 23,
     "metadata": {},
     "output_type": "execute_result"
    }
   ],
   "source": [
    "history.messages\n"
   ]
  },
  {
   "cell_type": "code",
   "execution_count": null,
   "id": "a8a55484",
   "metadata": {},
   "outputs": [],
   "source": []
  }
 ],
 "metadata": {
  "kernelspec": {
   "display_name": "llmapp",
   "language": "python",
   "name": "python3"
  },
  "language_info": {
   "codemirror_mode": {
    "name": "ipython",
    "version": 3
   },
   "file_extension": ".py",
   "mimetype": "text/x-python",
   "name": "python",
   "nbconvert_exporter": "python",
   "pygments_lexer": "ipython3",
   "version": "3.11.13"
  }
 },
 "nbformat": 4,
 "nbformat_minor": 5
}
